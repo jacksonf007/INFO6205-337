{
 "cells": [
  {
   "cell_type": "code",
   "execution_count": 3,
   "metadata": {},
   "outputs": [],
   "source": [
    "import numpy as np\n",
    "from scipy import optimize\n",
    "import pandas as pd\n",
    "import numpy as np\n",
    "from pprint import pprint\n",
    "import os\n",
    "import csv\n",
    "import seaborn as sns\n",
    "import matplotlib.pyplot as plt\n",
    "import math"
   ]
  },
  {
   "cell_type": "code",
   "execution_count": 223,
   "metadata": {},
   "outputs": [],
   "source": [
    "def KalmanFilter(R,k,params):\n",
    "    S_length = R.shape[0]\n",
    "    S = S_length+1\n",
    "    if k == 1:\n",
    "        Z = np.array(2/(1+np.exp(-params[0]))-1)\n",
    "        H = np.array(np.exp(params[1]))\n",
    "        T = np.array(2/(1+np.exp(-params[2]))-1)\n",
    "        Q = np.array(np.exp(params[3]))\n",
    "    if k == 2:\n",
    "        Z = np.array([[2/(1+np.exp(-params[0]))-1,2/(1+np.exp(-params[1]))-1]])\n",
    "        H = np.array(np.exp(params[2]))\n",
    "        T = np.array([[2/(1+np.exp(-params[3]))-1,0],[0,2/(1+np.exp(-params[4]))-1]])\n",
    "        Q = np.array([[np.exp(params[5]),0],[0,np.exp(params[6])]])\n",
    "    u_predict = np.zeros((k,S));\n",
    "    u_update = np.zeros((k,S));\n",
    "    P_predict = np.zeros((k,k,S));\n",
    "    P_update = np.zeros((k,k,S));\n",
    "    v = np.zeros((1,S));\n",
    "    F = np.zeros((1,S));\n",
    "    KF_Dens = np.zeros((1,S));\n",
    "    for i in xrange(S):\n",
    "        if i == 0:\n",
    "            P_update[:,:,i] = 1000*np.eye(k)\n",
    "            P_predict[:,:,i] = T.dot(np.array(P_update[0][0][0]).dot(T.T))+Q\n",
    "        else:\n",
    "            F[0][i] = Z.dot(P_predict[:,:,i-1].dot(Z.T))+H\n",
    "            v[0][i] = R.T.flatten()[i-1]-Z.dot(u_predict[:,i-1])\n",
    "            u_update[:,i] = u_predict[:,i-1]+P_predict[:,:,i-1].dot(Z.T.dot(np.linalg.inv([[F[0][i]]]).dot(v[0][i]))).flatten()\n",
    "            u_predict[:,i] = T.dot(u_update[:,i])\n",
    "            P_update[:,:,i] = P_predict[:,:,i-1]-P_predict[:,:,i-1].dot(Z.T.dot(np.linalg.inv([[F[0][i]]]).dot(Z.dot(P_predict[:,:,i-1]))))\n",
    "            P_predict[:,:,i] = T.dot(P_update[:,:,i]).dot(T.T)+Q\n",
    "            KF_Dens[0][i] = (1.0/2)*np.log(2*np.pi)+(1.0/2)*np.log(np.abs(F[0][i]))+(1.0/2)+v[0][i].T*np.linalg.inv([[F[0][i]]])*v[0][i]\n",
    "    Likelihood = np.sum(KF_Dens)-KF_Dens[0][0]\n",
    "    varargout = [u_update, P_update, P_predict, T]\n",
    "    return Likelihood, varargout"
   ]
  },
  {
   "cell_type": "code",
   "execution_count": 252,
   "metadata": {},
   "outputs": [],
   "source": [
    "def KalmanSmoother(R,k,params_star):\n",
    "    _,vararg = KalmanFilter(R,k,params_star)\n",
    "    u_update = vararg[0]\n",
    "    P_update = vararg[1]\n",
    "    P_predict = vararg[2]\n",
    "    T = np.array(vararg[3])\n",
    "    S = R.shape[0]+1\n",
    "    u_smooth = np.zeros((k,S))\n",
    "    P_smooth = np.zeros((k,k,S))\n",
    "    u_smooth[:,S-1] = u_update[:,S-1]\n",
    "    P_smooth[:,:,S-1] = P_update[:,:,S-1]    \n",
    "    for t in reversed(xrange(1,S)): # 2 to S inverse sequence\n",
    "        u_smooth[:,t-1] = u_update[:,t] + P_update[:,:,t].dot(T.T.dot(np.linalg.inv(P_predict[:,:,t]).dot((u_smooth[:,t]-T.dot(u_update[:,t])))))\n",
    "        P_smooth[:,:,t-1] = P_update[:,:,t] + P_update[:,:,t].dot(T.T).dot(np.linalg.inv(P_predict[:,:,t])).dot((P_smooth[:,:,t]-P_predict[:,:,t])).dot(np.linalg.inv(P_predict[:,:,t])).dot(T).dot(P_update[:,:,t])\n",
    "    u_smooth = u_smooth.flatten()[1:]\n",
    "    return u_smooth"
   ]
  },
  {
   "cell_type": "code",
   "execution_count": 271,
   "metadata": {},
   "outputs": [],
   "source": [
    "def KalmanFilter_main(R,k):\n",
    "    r = 0.25*np.log(np.var(R,axis = 0,ddof=1))\n",
    "    if k == 1:\n",
    "        param0 = np.append(np.append(np.append(np.array(100),r,),100),r)\n",
    "        \n",
    "    if k == 2:\n",
    "        param0 = np.append(np.append(np.append(np.array([100,100]),4*r),[-100,-100]),[r,r])\n",
    "    def objective(params):\n",
    "        Likelihood,_ = KalmanFilter(R,k,params)\n",
    "        return Likelihood\n",
    "    params_star= optimize.fmin(objective,param0)\n",
    "    u_smooth = KalmanSmoother(R, k, params_star)\n",
    "    Z = 2/(1+np.exp(-params_star[0]))-1;\n",
    "    H = np.exp(params_star[1]);\n",
    "    T = 2/(1+np.exp(-params_star[2]))-1;\n",
    "    Q = np.exp(params_star[3]);\n",
    "      \n",
    "    u_tplus1 = T*u_smooth[-1] + np.random.normal()*np.sqrt(Q)\n",
    "    price_tplus1 = Z*u_tplus1 + np.random.normal()*np.sqrt(H)\n",
    "    print('T*u_smooth[-1] is {}; Z*u_tplus1 is {}'.format(T*u_smooth[-1],Z*u_tplus1))\n",
    "    return price_tplus1,u_tplus1,u_smooth"
   ]
  },
  {
   "cell_type": "code",
   "execution_count": 7,
   "metadata": {},
   "outputs": [
    {
     "name": "stdout",
     "output_type": "stream",
     "text": [
      "/Users/ellise/Desktop/BITCOIN.csv\n"
     ]
    }
   ],
   "source": [
    "cur_path = os.path.dirname(os.getcwd())\n",
    "file_path = cur_path + '/BITCOIN.csv'\n",
    "print(file_path)\n",
    "bitcoin_data = pd.read_csv(file_path, encoding='latin-1')"
   ]
  },
  {
   "cell_type": "code",
   "execution_count": 8,
   "metadata": {},
   "outputs": [],
   "source": [
    "bitcoin_data['Open'] = [x.replace(',', '') for x in bitcoin_data['Open']]\n",
    "bitcoin_data['Close'] = [x.replace(',', '') for x in bitcoin_data['Close']]\n",
    "bitcoin_data['High'] = [x.replace(',', '') for x in bitcoin_data['High']]\n",
    "bitcoin_data['Low'] = [x.replace(',', '') for x in bitcoin_data['Low']]"
   ]
  },
  {
   "cell_type": "code",
   "execution_count": 9,
   "metadata": {},
   "outputs": [],
   "source": [
    "bitcoin_data['Volume'] = bitcoin_data['Volume'].astype(str)\n",
    "bitcoin_data['Volume'] = [x.replace(',', '') for x in bitcoin_data['Volume']]"
   ]
  },
  {
   "cell_type": "code",
   "execution_count": 10,
   "metadata": {},
   "outputs": [],
   "source": [
    "bitcoin_data['Open'] = bitcoin_data['Open'].astype(float)\n",
    "bitcoin_data['Close'] = bitcoin_data['Close'].astype(float)\n",
    "bitcoin_data['High'] = bitcoin_data['High'].astype(float)\n",
    "bitcoin_data['Low'] = bitcoin_data['Low'].astype(float)\n",
    "bitcoin_data['Volume'] = bitcoin_data['Volume'].astype(float)"
   ]
  },
  {
   "cell_type": "code",
   "execution_count": 11,
   "metadata": {},
   "outputs": [],
   "source": [
    "R = bitcoin_data.drop(['Volume','Date'],axis = 1).values # just feed in all data\n",
    "k = 1"
   ]
  },
  {
   "cell_type": "code",
   "execution_count": 272,
   "metadata": {},
   "outputs": [
    {
     "name": "stdout",
     "output_type": "stream",
     "text": [
      "Optimization terminated successfully.\n",
      "         Current function value: 11501.093567\n",
      "         Iterations: 654\n",
      "         Function evaluations: 1152\n",
      "T*u_smooth[-1] is 10903.4; Z*u_tplus1 is 11095.3189557\n"
     ]
    }
   ],
   "source": [
    "a,b,c=KalmanFilter_main(R,1)"
   ]
  },
  {
   "cell_type": "code",
   "execution_count": 273,
   "metadata": {},
   "outputs": [
    {
     "data": {
      "text/plain": [
       "(11095.318955606037,\n",
       " 11095.3189557489,\n",
       " array([   737.98,    728.05,    741.35, ...,  10944.5 ,  10903.4 ,  10903.4 ]))"
      ]
     },
     "execution_count": 273,
     "metadata": {},
     "output_type": "execute_result"
    }
   ],
   "source": [
    "a,b,c"
   ]
  },
  {
   "cell_type": "code",
   "execution_count": 778,
   "metadata": {},
   "outputs": [],
   "source": [
    "x = [i for i in xrange(1490)]"
   ]
  },
  {
   "cell_type": "code",
   "execution_count": 819,
   "metadata": {
    "scrolled": true
   },
   "outputs": [
    {
     "name": "stdout",
     "output_type": "stream",
     "text": [
      "green line is smoothed line and red line is for close prices\n"
     ]
    },
    {
     "data": {
      "image/png": "[encoded data removed]",
      "text/plain": [
       "<matplotlib.figure.Figure at 0x1a21570150>"
      ]
     },
     "metadata": {},
     "output_type": "display_data"
    }
   ],
   "source": [
    "plt.plot(x,c,color = 'g')\n",
    "plt.plot(x,close_price,color = 'r')\n",
    "plt.xlim(1423,1429)\n",
    "plt.ylim(8000,8600)\n",
    "print('green line is smoothed line and red line is for close prices')"
   ]
  },
  {
   "cell_type": "markdown",
   "metadata": {},
   "source": [
    "After we passed our data through KalmanFilter(green), the peak became lower and valley became higher both approaching each other, which means that the data had been smoothed."
   ]
  },
  {
   "cell_type": "code",
   "execution_count": 274,
   "metadata": {
    "scrolled": true
   },
   "outputs": [
    {
     "name": "stdout",
     "output_type": "stream",
     "text": [
      "This is the prediction given by our Filter for t+1 price: 11095.3189556\n"
     ]
    }
   ],
   "source": [
    "next_price_pred_ = a\n",
    "print('This is the prediction given by our Filter for t+1 price: {}'.format(next_price_pred_))"
   ]
  },
  {
   "cell_type": "markdown",
   "metadata": {},
   "source": [
    "Then we compared some results from same code in matlab and in python. We chose to compare 'u_smooth' because if every number in the array matches, then we would believe that two results are equal. Not only because it's hard to guess every number in the array right, but also because for other two outputs, they would change everytime)"
   ]
  },
  {
   "cell_type": "markdown",
   "metadata": {},
   "source": [
    "### when k = 1:"
   ]
  },
  {
   "cell_type": "code",
   "execution_count": 829,
   "metadata": {},
   "outputs": [
    {
     "name": "stdout",
     "output_type": "stream",
     "text": [
      "Warning: Maximum number of function evaluations has been exceeded.\n",
      "[  665.05060994   997.5759149   1330.10121781  1330.10121781]\n"
     ]
    }
   ],
   "source": [
    "_,_,smoothed_test1 = KalmanFilter_main(np.array([1,2,3,4]),1)\n",
    "print(smoothed_test1)"
   ]
  },
  {
   "cell_type": "code",
   "execution_count": 830,
   "metadata": {
    "scrolled": true
   },
   "outputs": [
    {
     "name": "stdout",
     "output_type": "stream",
     "text": [
      "Warning: Maximum number of function evaluations has been exceeded.\n",
      "[ 3.  5.  5.]\n"
     ]
    }
   ],
   "source": [
    "_,_,smoothed_test2 = KalmanFilter_main(np.array([[1,2],[3,4],[5,6]]),1)\n",
    "print(smoothed_test2)"
   ]
  },
  {
   "cell_type": "markdown",
   "metadata": {},
   "source": [
    "\\[  665.05060994,   997.5759149,   1330.10121781,  1330.10121781\\] and \\[ 3.,  5.,  5.\\] are what we get from KalmanFilter in matlab version(refer to test pictures)  \n",
    "So if the matlab KalmanFilter was correctly coded(at least it worked well on my laptop..), then I have strong confidence that our python version is good. I have also tried many other matrix of different shapes as inputs testing the functions and every time they were good."
   ]
  },
  {
   "cell_type": "markdown",
   "metadata": {},
   "source": [
    "### when k = 2"
   ]
  },
  {
   "cell_type": "code",
   "execution_count": 270,
   "metadata": {},
   "outputs": [
    {
     "name": "stdout",
     "output_type": "stream",
     "text": [
      "Optimization terminated successfully.\n",
      "         Current function value: 11.429971\n",
      "         Iterations: 614\n",
      "         Function evaluations: 1024\n",
      "T*u_smooth[-1] is -12.1094176827; Z*u_tplus1 is 2.44667413449e-05\n",
      "-2.02047216358e-06\n",
      "[  1.12576292e-03  -1.12725820e-03   1.12841636e-03  -1.13041204e-03\n",
      "  -2.13249142e+01  -2.14203362e+01  -2.15310946e+01  -2.16098437e+01\n",
      "  -2.16090717e+01]\n"
     ]
    }
   ],
   "source": [
    "_,_,smoothed_test3 = a,b,c=KalmanFilter_main(np.array([1,2,3,4]),2)\n",
    "print(smoothed_test3)"
   ]
  },
  {
   "cell_type": "markdown",
   "metadata": {},
   "source": [
    "When k = 2, things are quite different. Because T, Z, and Q become vector or matrix instead of scalar. We not only compared smoothed output, but also compared the term $T*u\\_smooth[-1]$ which has none randomness, and term $Z*u\\_tplus1$, which is very small due to smallness of Z (about $-10^6$). We found that both terms are same to those given by matlab version."
   ]
  },
  {
   "cell_type": "markdown",
   "metadata": {},
   "source": [
    "We didn't do more test on our program due to data access probelm in matlab. According to what we have done, we can tell:  \n",
    "* If what we coded in matlab was 100% correct, then our python version is good for k = 1, k = 2 and any shape of R.\n",
    "* Our code has obvious effect regarding to filtering and smoothing functionalities.\n",
    "* Problem could occure if matrix multiplication failed in some situation. This is complicated to tell and we don't have time to thoroughly test everything. "
   ]
  }
 ],
 "metadata": {
  "kernelspec": {
   "display_name": "Python 3",
   "language": "python",
   "name": "python3"
  },
  "language_info": {
   "codemirror_mode": {
    "name": "ipython",
    "version": 3
   },
   "file_extension": ".py",
   "mimetype": "text/x-python",
   "name": "python",
   "nbconvert_exporter": "python",
   "pygments_lexer": "ipython3",
   "version": "3.6.3"
  }
 },
 "nbformat": 4,
 "nbformat_minor": 2
}
